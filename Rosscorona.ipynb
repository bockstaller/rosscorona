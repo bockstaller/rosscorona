{
 "cells": [
  {
   "cell_type": "code",
   "execution_count": 1,
   "metadata": {},
   "outputs": [
    {
     "name": "stdout",
     "output_type": "stream",
     "text": [
      "Requirement already satisfied: folium in ./venv/lib/python3.8/site-packages (0.12.1)\n",
      "Requirement already satisfied: shapely in ./venv/lib/python3.8/site-packages (1.7.1)\n",
      "Requirement already satisfied: openrouteservice in ./venv/lib/python3.8/site-packages (2.3.3)\n",
      "Requirement already satisfied: geojson in ./venv/lib/python3.8/site-packages (2.5.0)\n",
      "Requirement already satisfied: geopandas in ./venv/lib/python3.8/site-packages (0.8.2)\n",
      "Requirement already satisfied: matplotlib in ./venv/lib/python3.8/site-packages (3.3.4)\n",
      "Requirement already satisfied: requests in ./venv/lib/python3.8/site-packages (from folium) (2.25.1)\n",
      "Requirement already satisfied: jinja2>=2.9 in ./venv/lib/python3.8/site-packages (from folium) (2.11.3)\n",
      "Requirement already satisfied: numpy in ./venv/lib/python3.8/site-packages (from folium) (1.20.1)\n",
      "Requirement already satisfied: branca>=0.3.0 in ./venv/lib/python3.8/site-packages (from folium) (0.4.2)\n",
      "Requirement already satisfied: pyproj>=2.2.0 in ./venv/lib/python3.8/site-packages (from geopandas) (3.0.0.post1)\n",
      "Requirement already satisfied: pandas>=0.23.0 in ./venv/lib/python3.8/site-packages (from geopandas) (1.2.2)\n",
      "Requirement already satisfied: fiona in ./venv/lib/python3.8/site-packages (from geopandas) (1.8.18)\n",
      "Requirement already satisfied: cycler>=0.10 in ./venv/lib/python3.8/site-packages (from matplotlib) (0.10.0)\n",
      "Requirement already satisfied: python-dateutil>=2.1 in ./venv/lib/python3.8/site-packages (from matplotlib) (2.8.1)\n",
      "Requirement already satisfied: pyparsing!=2.0.4,!=2.1.2,!=2.1.6,>=2.0.3 in ./venv/lib/python3.8/site-packages (from matplotlib) (2.4.7)\n",
      "Requirement already satisfied: pillow>=6.2.0 in ./venv/lib/python3.8/site-packages (from matplotlib) (8.1.0)\n",
      "Requirement already satisfied: kiwisolver>=1.0.1 in ./venv/lib/python3.8/site-packages (from matplotlib) (1.3.1)\n",
      "Requirement already satisfied: chardet<5,>=3.0.2 in ./venv/lib/python3.8/site-packages (from requests->folium) (4.0.0)\n",
      "Requirement already satisfied: idna<3,>=2.5 in ./venv/lib/python3.8/site-packages (from requests->folium) (2.10)\n",
      "Requirement already satisfied: urllib3<1.27,>=1.21.1 in ./venv/lib/python3.8/site-packages (from requests->folium) (1.26.3)\n",
      "Requirement already satisfied: certifi>=2017.4.17 in ./venv/lib/python3.8/site-packages (from requests->folium) (2020.12.5)\n",
      "Requirement already satisfied: MarkupSafe>=0.23 in ./venv/lib/python3.8/site-packages (from jinja2>=2.9->folium) (1.1.1)\n",
      "Requirement already satisfied: pytz>=2017.3 in ./venv/lib/python3.8/site-packages (from pandas>=0.23.0->geopandas) (2021.1)\n",
      "Requirement already satisfied: munch in ./venv/lib/python3.8/site-packages (from fiona->geopandas) (2.5.0)\n",
      "Requirement already satisfied: click-plugins>=1.0 in ./venv/lib/python3.8/site-packages (from fiona->geopandas) (1.1.1)\n",
      "Requirement already satisfied: cligj>=0.5 in ./venv/lib/python3.8/site-packages (from fiona->geopandas) (0.7.1)\n",
      "Requirement already satisfied: click<8,>=4.0 in ./venv/lib/python3.8/site-packages (from fiona->geopandas) (7.1.2)\n",
      "Requirement already satisfied: six>=1.7 in ./venv/lib/python3.8/site-packages (from fiona->geopandas) (1.15.0)\n",
      "Requirement already satisfied: attrs>=17 in ./venv/lib/python3.8/site-packages (from fiona->geopandas) (20.3.0)\n",
      "\u001b[33mWARNING: You are using pip version 19.2.3, however version 21.0.1 is available.\n",
      "You should consider upgrading via the 'pip install --upgrade pip' command.\u001b[0m\n"
     ]
    }
   ],
   "source": [
    "!pip install folium shapely openrouteservice geojson geopandas matplotlib"
   ]
  },
  {
   "cell_type": "code",
   "execution_count": null,
   "metadata": {},
   "outputs": [],
   "source": []
  },
  {
   "cell_type": "code",
   "execution_count": 2,
   "metadata": {
    "scrolled": true
   },
   "outputs": [],
   "source": [
    "from shapely import wkt, geometry\n",
    "\n",
    "import folium\n",
    "import shapely\n",
    "import geojson\n",
    "import json\n",
    "from pprint import pprint\n",
    "from openrouteservice import client, directions, geocode\n",
    "import json\n",
    "from shapely.geometry import Polygon, MultiPolygon, LineString, shape, GeometryCollection\n",
    "from shapely.ops import cascaded_union"
   ]
  },
  {
   "cell_type": "code",
   "execution_count": 3,
   "metadata": {},
   "outputs": [],
   "source": [
    "external = False\n",
    "\n",
    "if external:\n",
    "    %store -r\n",
    "else:\n",
    "    start_coord = [8.765719, 49.232204]\n",
    "    api_key = ''\n",
    "    station_count = 13\n",
    "    length = 40000\n",
    "    force_poi_limit = 6000\n",
    "    force_no_poi_limit = 7000\n",
    "    roundness = 16\n",
    "    green = 0.5\n",
    "    quiet = 0.5\n",
    "    seed = 10\n",
    "    grenze = \"\"\n",
    "\n",
    "clnt = client.Client(key=api_key, timeout=360)\n",
    "#clnt = client.Client(base_url='http://localhost:8080/ors', timeout=360)\n",
    "poi_clnt = client.Client(key=api_key, timeout=360)\n",
    "#clnt = poi_clnt\n"
   ]
  },
  {
   "cell_type": "code",
   "execution_count": 4,
   "metadata": {},
   "outputs": [],
   "source": [
    "with open('./Grenzen/3laender.geojson') as geojson1:\n",
    "    dreilaender = json.load(geojson1)\n",
    "\n",
    "with open('./Grenzen/france.geojson') as geojson2:\n",
    "    france = json.load(geojson2)\n",
    "\n",
    "with open('./Grenzen/swiss.geojson') as geojson2:\n",
    "    swiss = json.load(geojson2)\n",
    "\n",
    "if (grenze == \"3laender\"):\n",
    "    borders = dreilaender\n",
    "elif (grenze == \"schweiz\"):\n",
    "    borders = swiss\n",
    "elif (grenze == \"frankreich\"):\n",
    "    borders = france\n",
    "else:\n",
    "    borders = swiss"
   ]
  },
  {
   "cell_type": "code",
   "execution_count": 5,
   "metadata": {},
   "outputs": [
    {
     "data": {
      "text/html": [
       "<div style=\"width:100%;\"><div style=\"position:relative;width:100%;height:0;padding-bottom:60%;\"><span style=\"color:#565656\">Make this Notebook Trusted to load map: File -> Trust Notebook</span><iframe src=\"about:blank\" style=\"position:absolute;width:100%;height:100%;left:0;top:0;border:none !important;\" data-html=%3C%21DOCTYPE%20html%3E%0A%3Chead%3E%20%20%20%20%0A%20%20%20%20%3Cmeta%20http-equiv%3D%22content-type%22%20content%3D%22text/html%3B%20charset%3DUTF-8%22%20/%3E%0A%20%20%20%20%0A%20%20%20%20%20%20%20%20%3Cscript%3E%0A%20%20%20%20%20%20%20%20%20%20%20%20L_NO_TOUCH%20%3D%20false%3B%0A%20%20%20%20%20%20%20%20%20%20%20%20L_DISABLE_3D%20%3D%20false%3B%0A%20%20%20%20%20%20%20%20%3C/script%3E%0A%20%20%20%20%0A%20%20%20%20%3Cstyle%3Ehtml%2C%20body%20%7Bwidth%3A%20100%25%3Bheight%3A%20100%25%3Bmargin%3A%200%3Bpadding%3A%200%3B%7D%3C/style%3E%0A%20%20%20%20%3Cstyle%3E%23map%20%7Bposition%3Aabsolute%3Btop%3A0%3Bbottom%3A0%3Bright%3A0%3Bleft%3A0%3B%7D%3C/style%3E%0A%20%20%20%20%3Cscript%20src%3D%22https%3A//cdn.jsdelivr.net/npm/leaflet%401.6.0/dist/leaflet.js%22%3E%3C/script%3E%0A%20%20%20%20%3Cscript%20src%3D%22https%3A//code.jquery.com/jquery-1.12.4.min.js%22%3E%3C/script%3E%0A%20%20%20%20%3Cscript%20src%3D%22https%3A//maxcdn.bootstrapcdn.com/bootstrap/3.2.0/js/bootstrap.min.js%22%3E%3C/script%3E%0A%20%20%20%20%3Cscript%20src%3D%22https%3A//cdnjs.cloudflare.com/ajax/libs/Leaflet.awesome-markers/2.0.2/leaflet.awesome-markers.js%22%3E%3C/script%3E%0A%20%20%20%20%3Clink%20rel%3D%22stylesheet%22%20href%3D%22https%3A//cdn.jsdelivr.net/npm/leaflet%401.6.0/dist/leaflet.css%22/%3E%0A%20%20%20%20%3Clink%20rel%3D%22stylesheet%22%20href%3D%22https%3A//maxcdn.bootstrapcdn.com/bootstrap/3.2.0/css/bootstrap.min.css%22/%3E%0A%20%20%20%20%3Clink%20rel%3D%22stylesheet%22%20href%3D%22https%3A//maxcdn.bootstrapcdn.com/bootstrap/3.2.0/css/bootstrap-theme.min.css%22/%3E%0A%20%20%20%20%3Clink%20rel%3D%22stylesheet%22%20href%3D%22https%3A//maxcdn.bootstrapcdn.com/font-awesome/4.6.3/css/font-awesome.min.css%22/%3E%0A%20%20%20%20%3Clink%20rel%3D%22stylesheet%22%20href%3D%22https%3A//cdnjs.cloudflare.com/ajax/libs/Leaflet.awesome-markers/2.0.2/leaflet.awesome-markers.css%22/%3E%0A%20%20%20%20%3Clink%20rel%3D%22stylesheet%22%20href%3D%22https%3A//cdn.jsdelivr.net/gh/python-visualization/folium/folium/templates/leaflet.awesome.rotate.min.css%22/%3E%0A%20%20%20%20%0A%20%20%20%20%20%20%20%20%20%20%20%20%3Cmeta%20name%3D%22viewport%22%20content%3D%22width%3Ddevice-width%2C%0A%20%20%20%20%20%20%20%20%20%20%20%20%20%20%20%20initial-scale%3D1.0%2C%20maximum-scale%3D1.0%2C%20user-scalable%3Dno%22%20/%3E%0A%20%20%20%20%20%20%20%20%20%20%20%20%3Cstyle%3E%0A%20%20%20%20%20%20%20%20%20%20%20%20%20%20%20%20%23map_b7bd7eebe4b64bc78d9014c8506674ee%20%7B%0A%20%20%20%20%20%20%20%20%20%20%20%20%20%20%20%20%20%20%20%20position%3A%20relative%3B%0A%20%20%20%20%20%20%20%20%20%20%20%20%20%20%20%20%20%20%20%20width%3A%20100.0%25%3B%0A%20%20%20%20%20%20%20%20%20%20%20%20%20%20%20%20%20%20%20%20height%3A%20100.0%25%3B%0A%20%20%20%20%20%20%20%20%20%20%20%20%20%20%20%20%20%20%20%20left%3A%200.0%25%3B%0A%20%20%20%20%20%20%20%20%20%20%20%20%20%20%20%20%20%20%20%20top%3A%200.0%25%3B%0A%20%20%20%20%20%20%20%20%20%20%20%20%20%20%20%20%7D%0A%20%20%20%20%20%20%20%20%20%20%20%20%3C/style%3E%0A%20%20%20%20%20%20%20%20%0A%3C/head%3E%0A%3Cbody%3E%20%20%20%20%0A%20%20%20%20%0A%20%20%20%20%20%20%20%20%20%20%20%20%3Cdiv%20class%3D%22folium-map%22%20id%3D%22map_b7bd7eebe4b64bc78d9014c8506674ee%22%20%3E%3C/div%3E%0A%20%20%20%20%20%20%20%20%0A%3C/body%3E%0A%3Cscript%3E%20%20%20%20%0A%20%20%20%20%0A%20%20%20%20%20%20%20%20%20%20%20%20var%20map_b7bd7eebe4b64bc78d9014c8506674ee%20%3D%20L.map%28%0A%20%20%20%20%20%20%20%20%20%20%20%20%20%20%20%20%22map_b7bd7eebe4b64bc78d9014c8506674ee%22%2C%0A%20%20%20%20%20%20%20%20%20%20%20%20%20%20%20%20%7B%0A%20%20%20%20%20%20%20%20%20%20%20%20%20%20%20%20%20%20%20%20center%3A%20%5B49.232204%2C%208.765719%5D%2C%0A%20%20%20%20%20%20%20%20%20%20%20%20%20%20%20%20%20%20%20%20crs%3A%20L.CRS.EPSG3857%2C%0A%20%20%20%20%20%20%20%20%20%20%20%20%20%20%20%20%20%20%20%20zoom%3A%2014%2C%0A%20%20%20%20%20%20%20%20%20%20%20%20%20%20%20%20%20%20%20%20zoomControl%3A%20true%2C%0A%20%20%20%20%20%20%20%20%20%20%20%20%20%20%20%20%20%20%20%20preferCanvas%3A%20false%2C%0A%20%20%20%20%20%20%20%20%20%20%20%20%20%20%20%20%7D%0A%20%20%20%20%20%20%20%20%20%20%20%20%29%3B%0A%0A%20%20%20%20%20%20%20%20%20%20%20%20%0A%0A%20%20%20%20%20%20%20%20%0A%20%20%20%20%0A%20%20%20%20%20%20%20%20%20%20%20%20var%20tile_layer_14ad945c47ad4b3cbe0cb6892b8b3aa4%20%3D%20L.tileLayer%28%0A%20%20%20%20%20%20%20%20%20%20%20%20%20%20%20%20%22https%3A//stamen-tiles-%7Bs%7D.a.ssl.fastly.net/toner/%7Bz%7D/%7Bx%7D/%7By%7D.png%22%2C%0A%20%20%20%20%20%20%20%20%20%20%20%20%20%20%20%20%7B%22attribution%22%3A%20%22Map%20tiles%20by%20%5Cu003ca%20href%3D%5C%22http%3A//stamen.com%5C%22%5Cu003eStamen%20Design%5Cu003c/a%5Cu003e%2C%20under%20%5Cu003ca%20href%3D%5C%22http%3A//creativecommons.org/licenses/by/3.0%5C%22%5Cu003eCC%20BY%203.0%5Cu003c/a%5Cu003e.%20Data%20by%20%5Cu0026copy%3B%20%5Cu003ca%20href%3D%5C%22http%3A//openstreetmap.org%5C%22%5Cu003eOpenStreetMap%5Cu003c/a%5Cu003e%2C%20under%20%5Cu003ca%20href%3D%5C%22http%3A//www.openstreetmap.org/copyright%5C%22%5Cu003eODbL%5Cu003c/a%5Cu003e.%22%2C%20%22detectRetina%22%3A%20false%2C%20%22maxNativeZoom%22%3A%2018%2C%20%22maxZoom%22%3A%2018%2C%20%22minZoom%22%3A%200%2C%20%22noWrap%22%3A%20false%2C%20%22opacity%22%3A%201%2C%20%22subdomains%22%3A%20%22abc%22%2C%20%22tms%22%3A%20false%7D%0A%20%20%20%20%20%20%20%20%20%20%20%20%29.addTo%28map_b7bd7eebe4b64bc78d9014c8506674ee%29%3B%0A%20%20%20%20%20%20%20%20%0A%20%20%20%20%0A%20%20%20%20%20%20%20%20%20%20%20%20var%20marker_55900ae73a88403fa94b9cb13f8c6113%20%3D%20L.marker%28%0A%20%20%20%20%20%20%20%20%20%20%20%20%20%20%20%20%5B49.232204%2C%208.765719%5D%2C%0A%20%20%20%20%20%20%20%20%20%20%20%20%20%20%20%20%7B%7D%0A%20%20%20%20%20%20%20%20%20%20%20%20%29.addTo%28map_b7bd7eebe4b64bc78d9014c8506674ee%29%3B%0A%20%20%20%20%20%20%20%20%0A%20%20%20%20%0A%20%20%20%20%20%20%20%20var%20popup_d6233c7479744bdf84b90f448fc7df48%20%3D%20L.popup%28%7B%22maxWidth%22%3A%20%22100%25%22%7D%29%3B%0A%0A%20%20%20%20%20%20%20%20%0A%20%20%20%20%20%20%20%20%20%20%20%20var%20html_c69be57a76f744daa8891e96e78f686a%20%3D%20%24%28%60%3Cdiv%20id%3D%22html_c69be57a76f744daa8891e96e78f686a%22%20style%3D%22width%3A%20100.0%25%3B%20height%3A%20100.0%25%3B%22%3EStart%3C/div%3E%60%29%5B0%5D%3B%0A%20%20%20%20%20%20%20%20%20%20%20%20popup_d6233c7479744bdf84b90f448fc7df48.setContent%28html_c69be57a76f744daa8891e96e78f686a%29%3B%0A%20%20%20%20%20%20%20%20%0A%0A%20%20%20%20%20%20%20%20marker_55900ae73a88403fa94b9cb13f8c6113.bindPopup%28popup_d6233c7479744bdf84b90f448fc7df48%29%0A%20%20%20%20%20%20%20%20%3B%0A%0A%20%20%20%20%20%20%20%20%0A%20%20%20%20%0A%3C/script%3E onload=\"this.contentDocument.open();this.contentDocument.write(    decodeURIComponent(this.getAttribute('data-html')));this.contentDocument.close();\" allowfullscreen webkitallowfullscreen mozallowfullscreen></iframe></div></div>"
      ],
      "text/plain": [
       "<folium.folium.Map at 0x7fbaf2b9b1c0>"
      ]
     },
     "execution_count": 5,
     "metadata": {},
     "output_type": "execute_result"
    }
   ],
   "source": [
    "\n",
    "\n",
    "m = folium.Map(tiles='Stamen Toner',location=(start_coord[1], start_coord[0]), zoom_start=14)\n",
    "folium.Marker(location=[start_coord[1],start_coord[0]], popup=\"Start\").add_to(m)\n",
    "              \n",
    "m\n"
   ]
  },
  {
   "cell_type": "code",
   "execution_count": 6,
   "metadata": {
    "tags": []
   },
   "outputs": [
    {
     "ename": "ApiError",
     "evalue": "401 ({'error': 'Authorization field/api_key missing in request. If you do not have a token, please sign up for one at https://openrouteservice.org'})",
     "output_type": "error",
     "traceback": [
      "\u001b[0;31m---------------------------------------------------------------------------\u001b[0m",
      "\u001b[0;31mApiError\u001b[0m                                  Traceback (most recent call last)",
      "\u001b[0;32m<ipython-input-6-a50474193e85>\u001b[0m in \u001b[0;36m<module>\u001b[0;34m\u001b[0m\n\u001b[1;32m     24\u001b[0m \u001b[0;31m#print(query)\u001b[0m\u001b[0;34m\u001b[0m\u001b[0;34m\u001b[0m\u001b[0;34m\u001b[0m\u001b[0m\n\u001b[1;32m     25\u001b[0m \u001b[0;34m\u001b[0m\u001b[0m\n\u001b[0;32m---> 26\u001b[0;31m \u001b[0mtrip\u001b[0m \u001b[0;34m=\u001b[0m \u001b[0mclnt\u001b[0m\u001b[0;34m.\u001b[0m\u001b[0mdirections\u001b[0m\u001b[0;34m(\u001b[0m\u001b[0;34m**\u001b[0m\u001b[0mquery\u001b[0m\u001b[0;34m)\u001b[0m\u001b[0;34m\u001b[0m\u001b[0;34m\u001b[0m\u001b[0m\n\u001b[0m\u001b[1;32m     27\u001b[0m \u001b[0;32mdef\u001b[0m \u001b[0mstyle_function\u001b[0m\u001b[0;34m(\u001b[0m\u001b[0mcolor\u001b[0m\u001b[0;34m)\u001b[0m\u001b[0;34m:\u001b[0m\u001b[0;34m\u001b[0m\u001b[0;34m\u001b[0m\u001b[0m\n\u001b[1;32m     28\u001b[0m     return lambda feature: dict(color=color,\n",
      "\u001b[0;32m~/code/rosscorona/venv/lib/python3.8/site-packages/openrouteservice/client.py\u001b[0m in \u001b[0;36mwrapper\u001b[0;34m(*args, **kwargs)\u001b[0m\n\u001b[1;32m    297\u001b[0m     \u001b[0;32mdef\u001b[0m \u001b[0mwrapper\u001b[0m\u001b[0;34m(\u001b[0m\u001b[0;34m*\u001b[0m\u001b[0margs\u001b[0m\u001b[0;34m,\u001b[0m \u001b[0;34m**\u001b[0m\u001b[0mkwargs\u001b[0m\u001b[0;34m)\u001b[0m\u001b[0;34m:\u001b[0m\u001b[0;34m\u001b[0m\u001b[0;34m\u001b[0m\u001b[0m\n\u001b[1;32m    298\u001b[0m         \u001b[0margs\u001b[0m\u001b[0;34m[\u001b[0m\u001b[0;36m0\u001b[0m\u001b[0;34m]\u001b[0m\u001b[0;34m.\u001b[0m\u001b[0m_extra_params\u001b[0m \u001b[0;34m=\u001b[0m \u001b[0mkwargs\u001b[0m\u001b[0;34m.\u001b[0m\u001b[0mpop\u001b[0m\u001b[0;34m(\u001b[0m\u001b[0;34m\"extra_params\"\u001b[0m\u001b[0;34m,\u001b[0m \u001b[0;32mNone\u001b[0m\u001b[0;34m)\u001b[0m\u001b[0;34m\u001b[0m\u001b[0;34m\u001b[0m\u001b[0m\n\u001b[0;32m--> 299\u001b[0;31m         \u001b[0mresult\u001b[0m \u001b[0;34m=\u001b[0m \u001b[0mfunc\u001b[0m\u001b[0;34m(\u001b[0m\u001b[0;34m*\u001b[0m\u001b[0margs\u001b[0m\u001b[0;34m,\u001b[0m \u001b[0;34m**\u001b[0m\u001b[0mkwargs\u001b[0m\u001b[0;34m)\u001b[0m\u001b[0;34m\u001b[0m\u001b[0;34m\u001b[0m\u001b[0m\n\u001b[0m\u001b[1;32m    300\u001b[0m         \u001b[0;32mtry\u001b[0m\u001b[0;34m:\u001b[0m\u001b[0;34m\u001b[0m\u001b[0;34m\u001b[0m\u001b[0m\n\u001b[1;32m    301\u001b[0m             \u001b[0;32mdel\u001b[0m \u001b[0margs\u001b[0m\u001b[0;34m[\u001b[0m\u001b[0;36m0\u001b[0m\u001b[0;34m]\u001b[0m\u001b[0;34m.\u001b[0m\u001b[0m_extra_params\u001b[0m\u001b[0;34m\u001b[0m\u001b[0;34m\u001b[0m\u001b[0m\n",
      "\u001b[0;32m~/code/rosscorona/venv/lib/python3.8/site-packages/openrouteservice/directions.py\u001b[0m in \u001b[0;36mdirections\u001b[0;34m(client, coordinates, profile, format_out, format, preference, units, language, geometry, geometry_simplify, instructions, instructions_format, alternative_routes, roundabout_exits, attributes, maneuvers, radiuses, bearings, skip_segments, continue_straight, elevation, extra_info, suppress_warnings, optimized, optimize_waypoints, options, validate, dry_run)\u001b[0m\n\u001b[1;32m    279\u001b[0m         \u001b[0mparams\u001b[0m\u001b[0;34m[\u001b[0m\u001b[0;34m'options'\u001b[0m\u001b[0;34m]\u001b[0m \u001b[0;34m=\u001b[0m \u001b[0moptions\u001b[0m\u001b[0;34m\u001b[0m\u001b[0;34m\u001b[0m\u001b[0m\n\u001b[1;32m    280\u001b[0m \u001b[0;34m\u001b[0m\u001b[0m\n\u001b[0;32m--> 281\u001b[0;31m     \u001b[0;32mreturn\u001b[0m \u001b[0mclient\u001b[0m\u001b[0;34m.\u001b[0m\u001b[0mrequest\u001b[0m\u001b[0;34m(\u001b[0m\u001b[0;34m\"/v2/directions/\"\u001b[0m \u001b[0;34m+\u001b[0m \u001b[0mprofile\u001b[0m \u001b[0;34m+\u001b[0m \u001b[0;34m'/'\u001b[0m \u001b[0;34m+\u001b[0m \u001b[0mformat\u001b[0m\u001b[0;34m,\u001b[0m \u001b[0;34m{\u001b[0m\u001b[0;34m}\u001b[0m\u001b[0;34m,\u001b[0m \u001b[0mpost_json\u001b[0m\u001b[0;34m=\u001b[0m\u001b[0mparams\u001b[0m\u001b[0;34m,\u001b[0m \u001b[0mdry_run\u001b[0m\u001b[0;34m=\u001b[0m\u001b[0mdry_run\u001b[0m\u001b[0;34m)\u001b[0m\u001b[0;34m\u001b[0m\u001b[0;34m\u001b[0m\u001b[0m\n\u001b[0m\u001b[1;32m    282\u001b[0m \u001b[0;34m\u001b[0m\u001b[0m\n\u001b[1;32m    283\u001b[0m \u001b[0;34m\u001b[0m\u001b[0m\n",
      "\u001b[0;32m~/code/rosscorona/venv/lib/python3.8/site-packages/openrouteservice/client.py\u001b[0m in \u001b[0;36mrequest\u001b[0;34m(self, url, get_params, first_request_time, retry_counter, requests_kwargs, post_json, dry_run)\u001b[0m\n\u001b[1;32m    202\u001b[0m \u001b[0;34m\u001b[0m\u001b[0m\n\u001b[1;32m    203\u001b[0m         \u001b[0;32mtry\u001b[0m\u001b[0;34m:\u001b[0m\u001b[0;34m\u001b[0m\u001b[0;34m\u001b[0m\u001b[0m\n\u001b[0;32m--> 204\u001b[0;31m             \u001b[0mresult\u001b[0m \u001b[0;34m=\u001b[0m \u001b[0mself\u001b[0m\u001b[0;34m.\u001b[0m\u001b[0m_get_body\u001b[0m\u001b[0;34m(\u001b[0m\u001b[0mresponse\u001b[0m\u001b[0;34m)\u001b[0m\u001b[0;34m\u001b[0m\u001b[0;34m\u001b[0m\u001b[0m\n\u001b[0m\u001b[1;32m    205\u001b[0m \u001b[0;34m\u001b[0m\u001b[0m\n\u001b[1;32m    206\u001b[0m             \u001b[0;32mreturn\u001b[0m \u001b[0mresult\u001b[0m\u001b[0;34m\u001b[0m\u001b[0;34m\u001b[0m\u001b[0m\n",
      "\u001b[0;32m~/code/rosscorona/venv/lib/python3.8/site-packages/openrouteservice/client.py\u001b[0m in \u001b[0;36m_get_body\u001b[0;34m(response)\u001b[0m\n\u001b[1;32m    240\u001b[0m             )\n\u001b[1;32m    241\u001b[0m         \u001b[0;32mif\u001b[0m \u001b[0mstatus_code\u001b[0m \u001b[0;34m!=\u001b[0m \u001b[0;36m200\u001b[0m\u001b[0;34m:\u001b[0m\u001b[0;34m\u001b[0m\u001b[0;34m\u001b[0m\u001b[0m\n\u001b[0;32m--> 242\u001b[0;31m             raise exceptions.ApiError(\n\u001b[0m\u001b[1;32m    243\u001b[0m                 \u001b[0mstatus_code\u001b[0m\u001b[0;34m,\u001b[0m\u001b[0;34m\u001b[0m\u001b[0;34m\u001b[0m\u001b[0m\n\u001b[1;32m    244\u001b[0m                 \u001b[0mbody\u001b[0m\u001b[0;34m\u001b[0m\u001b[0;34m\u001b[0m\u001b[0m\n",
      "\u001b[0;31mApiError\u001b[0m: 401 ({'error': 'Authorization field/api_key missing in request. If you do not have a token, please sign up for one at https://openrouteservice.org'})"
     ]
    }
   ],
   "source": [
    "query = {\n",
    "    'coordinates': [start_coord],\n",
    "    'profile': 'foot-hiking',\n",
    "    \"options\":{\n",
    "        \"round_trip\":{\n",
    "            \"length\":length,\n",
    "            \"points\":roundness,\n",
    "            \"seed\":seed\n",
    "        },\n",
    "        \"profile_params\":{\n",
    "            \"weightings\":{\n",
    "                \"green\":green,\n",
    "                \"quiet\":quiet\n",
    "            }\n",
    "        },\n",
    "        #\"avoid_polygons\": borders,\n",
    "    },\n",
    "    'format_out': 'geojson',\n",
    "    'instructions': 'false',\n",
    "    'units': 'km',\n",
    "    'radiuses': [200]\n",
    "}\n",
    "\n",
    "#print(query)\n",
    "\n",
    "trip = clnt.directions(**query)\n",
    "def style_function(color):\n",
    "    return lambda feature: dict(color=color,\n",
    "                              weight=3,\n",
    "                              opacity=1)\n",
    "\n",
    "folium.features.GeoJson(data=trip,\n",
    "                        name='Rosscorona',\n",
    "                        style_function=style_function('#84e184'),\n",
    "                       overlay=True).add_to(m)\n",
    "\n",
    "m"
   ]
  },
  {
   "cell_type": "code",
   "execution_count": null,
   "metadata": {},
   "outputs": [],
   "source": [
    "from shapely.geometry import Point\n",
    "import geopandas as gpd\n",
    "\n",
    "waypoints = []\n",
    "for index, waypoint in enumerate(trip['features'][0]['geometry']['coordinates']):\n",
    "    waypoints.append(Point(waypoint))\n",
    "\n",
    "waypoints = gpd.GeoDataFrame(geometry = waypoints,crs={'init':'epsg:4326'})\n",
    "waypoints_projected = waypoints.to_crs(epsg=3310)\n",
    "waypoints['distance_next'] = waypoints_projected['geometry'].distance(waypoints_projected['geometry'].shift(-1))\n",
    "waypoints['distance_prev'] = waypoints_projected['geometry'].distance(waypoints_projected['geometry'].shift(1))\n",
    "\n",
    "waypoints.loc[waypoints['distance_prev'].isna(), 'distance_prev'] = 0\n",
    "waypoints.loc[waypoints['distance_next'].isna(), 'distance_next'] = 0\n",
    "waypoints"
   ]
  },
  {
   "cell_type": "code",
   "execution_count": null,
   "metadata": {},
   "outputs": [],
   "source": [
    "from openrouteservice import places\n",
    "\n",
    "\n",
    "query = {\n",
    "    'request': 'pois',\n",
    "    'geojson': trip['features'][0]['geometry'],\n",
    "    'buffer': 200,\n",
    "}\n",
    "poi = poi_clnt.places(**query)"
   ]
  },
  {
   "cell_type": "code",
   "execution_count": null,
   "metadata": {},
   "outputs": [],
   "source": [
    "\n"
   ]
  },
  {
   "cell_type": "code",
   "execution_count": null,
   "metadata": {},
   "outputs": [],
   "source": [
    "# https://github.com/GIScience/openpoiservice/blob/master/openpoiservice/server/categories/categories.yml\n",
    "category_ids = [101, 103, 110, 163, 164, 166, 171, 177, 179, 191, 192, 269, 278, 281, 283, 291, 292, 293, 295, 296, 299, 304, 308, 309 , 310, 330, 398, 426, 435, 450, 488, 518, 519, 493, 528, 563, 564, 565, 568, 585, 587, 588, 594, 595, 597, 604, 605, 607, 608, 609, 610, 131, 132, 133, 134, 135, 136, 151, 153, 155, 156, 157, 621, 622, 623, 624, 625, 626, 627 ]\n",
    "category_220 = list(range(221, 249))\n",
    "category_ids = category_ids + category_220\n",
    "\n",
    "selected_pois = []\n",
    "\n",
    "for feature in poi[0]['features']:\n",
    "    category = next(iter(feature['properties']['category_ids']))\n",
    "    if int(category) in category_ids:\n",
    "        selected_pois.append(feature)\n"
   ]
  },
  {
   "cell_type": "code",
   "execution_count": null,
   "metadata": {},
   "outputs": [],
   "source": [
    "selected_pois"
   ]
  },
  {
   "cell_type": "markdown",
   "metadata": {},
   "source": [
    "Takes the complete list of points of interests and narrows them down, so that only \"wanted\" POI categories are used\n"
   ]
  },
  {
   "cell_type": "code",
   "execution_count": null,
   "metadata": {},
   "outputs": [],
   "source": [
    "import geopandas as gpd\n",
    "import numpy as np\n",
    "from shapely.geometry import Point, LineString, MultiPoint\n",
    "from shapely.ops import nearest_points\n",
    "\n",
    "rows_list = []\n",
    "\n",
    "dict1 = {}\n",
    "dict1[\"geometry\"] = Point(start_coord)\n",
    "dict1[\"name\"] = \"Start\"\n",
    "rows_list.append(dict1)\n",
    "\n",
    "for index, poi in enumerate(selected_pois):\n",
    "    dict1 = {}\n",
    "    dict1[\"geometry\"] = Point(poi['geometry']['coordinates'])\n",
    "    try:\n",
    "        dict1[\"name\"] = poi['properties']['osm_tags'].get('name')\n",
    "    except: \n",
    "        dict1[\"name\"]=None\n",
    "    dict1[\"category_ids\"] = poi['properties']['category_ids'].keys()\n",
    "\n",
    "    category_names = []\n",
    "    category_groups =[]\n",
    "    for category_id in poi['properties']['category_ids'].keys():\n",
    "        category_names.append(poi['properties']['category_ids'][category_id]['category_name'])\n",
    "        category_groups.append(poi['properties']['category_ids'][category_id]['category_group'])\n",
    "    dict1[\"category_names\"] = category_names\n",
    "    dict1[\"category_groups\"] = category_groups\n",
    "\n",
    "    rows_list.append(dict1)\n",
    "\n",
    "poi_points = gpd.GeoDataFrame(rows_list, crs={'init':'epsg:4326'})\n",
    "poi_points[\"nearest_waypoint_index\"] = 0\n",
    "\n",
    "indexNames = poi_points[ poi_points['name'].isnull() ].index\n",
    "poi_points.drop(indexNames , inplace=True)\n",
    "\n",
    "poi_points\n",
    "\n"
   ]
  },
  {
   "cell_type": "markdown",
   "metadata": {},
   "source": [
    "Maps the POIs to the route an saves the nearest waypoint index for each POI"
   ]
  },
  {
   "cell_type": "code",
   "execution_count": null,
   "metadata": {},
   "outputs": [],
   "source": [
    "\n",
    "route = MultiPoint(trip['features'][0]['geometry']['coordinates'])\n",
    "\n",
    "list_route = list(route)\n",
    "\n",
    "for i, row in poi_points.iterrows():\n",
    "    poi_points.at[i,'nearest_waypoint_index'] = int(list_route.index(nearest_points(route, row['geometry'])[0]))\n",
    "\n",
    "poi_points = poi_points.sort_values(by=['nearest_waypoint_index']).reset_index(drop=True)\n",
    "\n",
    "poi_points"
   ]
  },
  {
   "cell_type": "code",
   "execution_count": null,
   "metadata": {},
   "outputs": [],
   "source": [
    "poi_points['distance_prev'] = 0\n",
    "poi_points['distance_next'] = 0\n",
    "\n",
    "for index, poi in poi_points.iterrows():\n",
    "\n",
    "    nearest_waypoint_index_current = int(poi['nearest_waypoint_index'])\n",
    "    try:\n",
    "        nearest_waypoint_index_next = int(poi_points.loc[index+1]['nearest_waypoint_index'])-1\n",
    "    except:\n",
    "        nearest_waypoint_index_next = int(poi_points.loc[index]['nearest_waypoint_index'])-1\n",
    "        \n",
    "    poi_points['distance_next'].iloc[index] = sum( waypoints.iloc[nearest_waypoint_index_current : nearest_waypoint_index_next] ['distance_next'])\n",
    "    try:\n",
    "        poi_points['distance_prev'].iloc[index+1] = poi_points['distance_next'].iloc[index]\n",
    "    except:\n",
    "        pass\n",
    "\n",
    "poi_points\n",
    "\n"
   ]
  },
  {
   "cell_type": "markdown",
   "metadata": {},
   "source": [
    "Calculates the sum of distances from the last and to the next POI for each POI"
   ]
  },
  {
   "cell_type": "code",
   "execution_count": null,
   "metadata": {},
   "outputs": [],
   "source": [
    "poi_points[\"force_selected\"] = False\n",
    "poi_points.loc[0, \"force_selected\"] = True\n",
    "\n",
    "poi_points.loc[(poi_points['distance_prev'] > force_poi_limit) | (poi_points['distance_next'] > force_poi_limit), [\"force_selected\"]] = True\n",
    "\n",
    "poi_points[poi_points['force_selected'] == True]\n",
    "\n",
    "\n",
    "waypoints[\"pois_selected\"] = False\n",
    "selected_segments = []\n",
    "blocked_segments = []\n",
    "\n",
    "last_index = 0\n",
    "for index, selected_poi in poi_points[poi_points['force_selected'] == True].iterrows():\n",
    "    waypoint_last_selected_poi = poi_points.iloc[last_index]['nearest_waypoint_index']\n",
    "    waypoint_current_selected_poi = selected_poi['nearest_waypoint_index']\n",
    "\n",
    "    # mark sections as selected if two pois are following each other  \n",
    "    if (last_index+1 == index):\n",
    "        waypoints.loc[waypoint_last_selected_poi:waypoint_current_selected_poi, 'pois_selected'] = True\n",
    "\n",
    "        selected_segments.append(list(waypoints.loc[waypoint_last_selected_poi:waypoint_current_selected_poi, 'geometry']))\n",
    "\n",
    "    # mark sections as selected if the distance between two selected sections is to short \n",
    "    else:\n",
    "        distance = sum(waypoints[waypoint_last_selected_poi:waypoint_current_selected_poi-1]['distance_next'])\n",
    "        if (distance < force_no_poi_limit):\n",
    "            waypoints.loc[waypoint_last_selected_poi:waypoint_current_selected_poi, 'pois_selected'] = True\n",
    "            blocked_segments.append(list(waypoints.loc[waypoint_last_selected_poi:waypoint_current_selected_poi, 'geometry']))\n",
    "\n",
    "\n",
    "    last_index = index"
   ]
  },
  {
   "cell_type": "code",
   "execution_count": null,
   "metadata": {},
   "outputs": [],
   "source": [
    "poi_points[\"greedy_selected\"] = False\n",
    "\n",
    "greedy = 0.0\n",
    "\n",
    "remaining_stations = (station_count+1) - len(poi_points[poi_points['force_selected'] == True])\n",
    "greedy_distance = sum(waypoints[waypoints['pois_selected']==False]['distance_next'])/remaining_stations\n",
    "unselected_poi_waypoint_indexes = list(poi_points[poi_points['force_selected']==False]['nearest_waypoint_index'])\n",
    "\n",
    "if (remaining_stations > 0):\n",
    "\n",
    "    for index, waypoint in waypoints[waypoints['pois_selected']==False].iterrows():\n",
    "\n",
    "        if (waypoint['pois_selected']==True):\n",
    "            greedy = 0\n",
    "\n",
    "        if (greedy > greedy_distance):\n",
    "            greedy = 0\n",
    "            next_poi_index = unselected_poi_waypoint_indexes[next(i for i,v in enumerate(unselected_poi_waypoint_indexes) if v > index)]\n",
    "            prev_poi_index = unselected_poi_waypoint_indexes[next(i for i,v in enumerate(unselected_poi_waypoint_indexes) if v > index)-1]\n",
    "\n",
    "            distance_next_poi = sum( waypoints.iloc[index : next_poi_index] ['distance_next'])\n",
    "            distance_prev_poi = sum( waypoints.iloc[prev_poi_index : index] ['distance_next'])\n",
    "\n",
    "            if distance_prev_poi < distance_next_poi:\n",
    "                poi = poi_points[poi_points['nearest_waypoint_index']==prev_poi_index].head(1)\n",
    "            else:\n",
    "                poi = poi_points[poi_points['nearest_waypoint_index']==next_poi_index].head(1)\n",
    "\n",
    "            poi_points.loc[poi.index, 'greedy_selected'] = True\n",
    "\n",
    "        else:\n",
    "            greedy += waypoint['distance_next']\n",
    "\n",
    "\n",
    "poi_points[poi_points['greedy_selected']==True]"
   ]
  },
  {
   "cell_type": "code",
   "execution_count": null,
   "metadata": {},
   "outputs": [],
   "source": [
    "import matplotlib.pyplot as plt\n",
    "\n",
    "plt.figure(figsize=(15, 15))\n",
    "plt.bar(range(0, len(poi_points)), list(poi_points.sort_values(by=['nearest_waypoint_index'])['distance_next'].values))\n",
    "\n",
    "plt.show()\n"
   ]
  },
  {
   "cell_type": "code",
   "execution_count": null,
   "metadata": {},
   "outputs": [],
   "source": [
    "if not external:\n",
    "\n",
    "   poi_map = folium.Map(tiles='Stamen Toner',location=(start_coord[1], start_coord[0]), bbox=trip['features'][0]['bbox'], zoom_start=12)\n",
    "\n",
    "   folium.features.GeoJson(data=trip,\n",
    "                           name='Rosscorona',\n",
    "                           style_function=style_function('#84e184'),\n",
    "                        overlay=True).add_to(poi_map)\n",
    "\n",
    "   for index, feature in poi_points.iterrows():\n",
    "      folium.Circle([feature['geometry'].y, feature['geometry'].x], radius=10, popup=feature['name']).add_to(poi_map)\n",
    "\n",
    "   for index, feature in poi_points[poi_points['force_selected'] == True].iterrows():\n",
    "      folium.Marker([feature['geometry'].y, feature['geometry'].x], popup=feature['name']).add_to(poi_map)\n",
    "\n",
    "   for index, feature in poi_points[poi_points['greedy_selected'] == True].iterrows():\n",
    "      folium.Marker([feature['geometry'].y, feature['geometry'].x], icon=folium.Icon(color='red'), popup=(str(index) + \" \" + feature['name']) ).add_to(poi_map)\n",
    "\n",
    "   for segment in selected_segments:\n",
    "      line = []\n",
    "      for point in segment:\n",
    "         line.append([point.y, point.x])\n",
    "\n",
    "      folium.PolyLine(line, color='#FF0000' ).add_to(poi_map)\n",
    "\n",
    "   for segment in blocked_segments:\n",
    "      line = []\n",
    "      for point in segment:\n",
    "         line.append([point.y, point.x])\n",
    "\n",
    "      folium.PolyLine(line, color='#0000FF' ).add_to(poi_map)\n",
    "\n",
    "\n",
    "   poi_map\n",
    " "
   ]
  },
  {
   "cell_type": "code",
   "execution_count": null,
   "metadata": {},
   "outputs": [],
   "source": [
    "computed_route = []\n",
    "for point in list(poi_points[(poi_points['greedy_selected'] == True) | (poi_points['force_selected'] == True)]['geometry']):\n",
    "    computed_route.append([point.x, point.y])\n",
    "computed_route.append([poi_points.iloc[0]['geometry'].x,poi_points.iloc[0]['geometry'].y])\n",
    "\n",
    "\n",
    "computed_route\n",
    "\n",
    "query = {\n",
    "    'coordinates': computed_route,\n",
    "    'profile': 'foot-hiking',\n",
    "    \"options\":{\n",
    "        \"avoid_borders\": \"all\"\n",
    "    },\n",
    "    'format_out': 'geojson',\n",
    "    'instructions': 'false',\n",
    "    'units': 'km',\n",
    "    'elevation': 'true'\n",
    "}\n",
    "\n",
    "computed_trip = clnt.directions(**query)\n",
    "\n"
   ]
  },
  {
   "cell_type": "code",
   "execution_count": null,
   "metadata": {},
   "outputs": [],
   "source": [
    "\n",
    "poi_map = folium.Map(tiles='Stamen Toner',location=(start_coord[1], start_coord[0]), bbox=trip['features'][0]['bbox'], zoom_start=12)\n",
    "\n",
    "def style_function(color):\n",
    "    return lambda feature: dict(color=color,\n",
    "                            weight=3,\n",
    "                            opacity=1)\n",
    "\n",
    "folium.features.GeoJson(data=computed_trip,\n",
    "                        name='Rosscorona',\n",
    "                        style_function=style_function('#84e184'),\n",
    "                    overlay=True).add_to(poi_map)\n",
    "\n",
    "for index, feature in poi_points.iterrows():\n",
    "    folium.Circle([feature['geometry'].y, feature['geometry'].x], radius=10, popup=feature['name']).add_to(poi_map)\n",
    "\n",
    "for index, feature in poi_points[poi_points['force_selected'] == True].iterrows():\n",
    "    folium.Marker([feature['geometry'].y, feature['geometry'].x], popup=feature['name']).add_to(poi_map)\n",
    "\n",
    "for index, feature in poi_points[poi_points['greedy_selected'] == True].iterrows():\n",
    "    folium.Marker([feature['geometry'].y, feature['geometry'].x], icon=folium.Icon(color='red'), popup=(str(index) + \" \" + feature['name']) ).add_to(poi_map)\n",
    "\n",
    "poi_map"
   ]
  },
  {
   "cell_type": "code",
   "execution_count": null,
   "metadata": {},
   "outputs": [],
   "source": [
    "from shapely.geometry import Point\n",
    "\n",
    "computed_waypoints = []\n",
    "elevation = []\n",
    "for index, waypoint in enumerate(computed_trip['features'][0]['geometry']['coordinates']):\n",
    "    computed_waypoints.append(Point(waypoint))\n",
    "    elevation.append(waypoint[2])\n",
    "\n",
    "computed_waypoints = gpd.GeoDataFrame(geometry = computed_waypoints,crs={'init':'epsg:4326'})\n",
    "waypoints_projected = computed_waypoints.to_crs(epsg=3310)\n",
    "computed_waypoints['distance_next'] = waypoints_projected['geometry'].distance(waypoints_projected['geometry'].shift(-1))\n",
    "computed_waypoints['distance_prev'] = waypoints_projected['geometry'].distance(waypoints_projected['geometry'].shift(1))\n",
    "\n",
    "computed_waypoints.loc[computed_waypoints['distance_prev'].isna(), 'distance_prev'] = 0\n",
    "computed_waypoints.loc[computed_waypoints['distance_next'].isna(), 'distance_next'] = 0\n",
    "\n",
    "poi_waypoints = computed_trip['features'][0]['properties']['way_points']\n",
    "ascend = computed_trip['features'][0]['properties']['ascent']\n",
    "distance = computed_trip['features'][0]['properties']['summary']['distance']\n",
    "\n",
    "computed_waypoints['poi'] = False\n",
    "distance_per_section = []\n",
    "\n",
    "last_poi = 0\n",
    "for index, poi in enumerate(poi_waypoints):\n",
    "    computed_waypoints.loc[poi, 'poi_number'] = index\n",
    "    computed_waypoints.loc[poi, 'poi'] = True\n",
    "    distance_per_section.append(sum(computed_waypoints.iloc[last_poi:poi]['distance_next']))\n",
    "    last_poi = poi\n",
    "\n"
   ]
  },
  {
   "cell_type": "code",
   "execution_count": null,
   "metadata": {},
   "outputs": [],
   "source": [
    "import os\n",
    "\n",
    "\n",
    "result_pois_selected = \"\"\n",
    "result_pois = \"\"\n",
    "result_route = \"\"\n",
    "\n",
    "waypoint_names = poi_points[(poi_points['greedy_selected'] == True) | (poi_points['force_selected'] == True)]['name'].to_list()\n",
    "waypoint_categories = poi_points[(poi_points['greedy_selected'] == True) | (poi_points['force_selected'] == True)]['category_names'].to_list()\n",
    "\n",
    "\n",
    "sel = poi_points[(poi_points['greedy_selected'] == True) | (poi_points['force_selected'] == True)]\n",
    "\n",
    "sel[sel.name != 'Start']['geometry'].to_file(\"pois_selected.geojson\", driver='GeoJSON')\n",
    "with open('pois_selected.geojson', 'r') as temp:\n",
    "  result_pois_selected = temp.read()\n",
    "\n",
    "poi_points['geometry'].to_file(\"pois.geojson\", driver='GeoJSON')\n",
    "with open('pois.geojson', 'r') as temp:\n",
    "  result_pois = temp.read()\n",
    "\n",
    "gpd.GeoSeries(LineString(computed_waypoints['geometry'])).to_file(\"route.geojson\", driver='GeoJSON')\n",
    "with open('route.geojson', 'r') as temp:\n",
    "  result_route = temp.read()\n",
    "\n",
    "os.remove(\"pois_selected.geojson\")\n",
    "os.remove(\"pois.geojson\")\n",
    "os.remove(\"route.geojson\")\n",
    "\n",
    "waypoints = list(zip(waypoint_names, waypoint_categories))\n",
    "sel[sel.name != 'Start']"
   ]
  },
  {
   "cell_type": "code",
   "execution_count": null,
   "metadata": {},
   "outputs": [],
   "source": [
    "distance"
   ]
  },
  {
   "cell_type": "code",
   "execution_count": null,
   "metadata": {},
   "outputs": [],
   "source": [
    "ascend"
   ]
  },
  {
   "cell_type": "code",
   "execution_count": null,
   "metadata": {},
   "outputs": [],
   "source": [
    "import matplotlib.pyplot as plt\n",
    "\n",
    "plt.figure(figsize=(15, 8))\n",
    "#plt.plot(poi_points['Distance'].values)\n",
    "plt.bar(range(0, len(distance_per_section)), distance_per_section)\n",
    "plt.show()\n"
   ]
  },
  {
   "cell_type": "code",
   "execution_count": null,
   "metadata": {},
   "outputs": [],
   "source": [
    "import matplotlib.pyplot as plt\n",
    "plt.figure(figsize=(15, 8))\n",
    "plt.plot(elevation)\n",
    "plt.ylabel('elevation')\n",
    "plt.show()"
   ]
  },
  {
   "cell_type": "code",
   "execution_count": null,
   "metadata": {},
   "outputs": [],
   "source": [
    "poi_map"
   ]
  },
  {
   "cell_type": "code",
   "execution_count": null,
   "metadata": {
    "tags": []
   },
   "outputs": [],
   "source": [
    "%store -z\n",
    "%store ascend distance distance_per_section elevation result_pois_selected result_pois result_route waypoints"
   ]
  },
  {
   "cell_type": "code",
   "execution_count": null,
   "metadata": {},
   "outputs": [],
   "source": [
    "waypoints"
   ]
  },
  {
   "cell_type": "code",
   "execution_count": null,
   "metadata": {},
   "outputs": [],
   "source": []
  }
 ],
 "metadata": {
  "kernelspec": {
   "display_name": "rosscorona-venv1",
   "language": "python",
   "name": "rosscorona-venv1"
  },
  "language_info": {
   "codemirror_mode": {
    "name": "ipython",
    "version": 3
   },
   "file_extension": ".py",
   "mimetype": "text/x-python",
   "name": "python",
   "nbconvert_exporter": "python",
   "pygments_lexer": "ipython3",
   "version": "3.8.2"
  }
 },
 "nbformat": 4,
 "nbformat_minor": 4
}
