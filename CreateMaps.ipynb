{
 "cells": [
  {
   "cell_type": "code",
   "execution_count": 1,
   "metadata": {
    "tags": []
   },
   "outputs": [
    {
     "name": "stdout",
     "output_type": "stream",
     "text": [
      "RoImSch: Testgruppe1\n",
      "<RequestsCookieJar[<Cookie sessionid=chxxu0ldb820oy0kqkuxn8bofbznzkdc for maposmatic.osm-baustelle.de/>]>\n",
      "<RequestsCookieJar[<Cookie sessionid=chxxu0ldb820oy0kqkuxn8bofbznzkdc for maposmatic.osm-baustelle.de/>]>\n"
     ]
    }
   ],
   "source": [
    "import os\n",
    "import requests\n",
    "\n",
    "import time\n",
    "import os\n",
    "import geojson\n",
    "\n",
    "rootdir = os.path.join(os.curdir, \"Routen\") \n",
    "\n",
    "x = requests.get(\"https://maposmatic.osm-baustelle.de/new/\")\n",
    "\n",
    "for dir in os.scandir(rootdir):\n",
    "    if not dir.is_dir():\n",
    "        continue\n",
    "    waypoint_file = os.path.join(dir, \"waypoints.geojson\")\n",
    "    with open(waypoint_file) as f:\n",
    "        gj = geojson.load(f)\n",
    "\n",
    "    gruppenname = dir.name\n",
    "\n",
    "\n",
    "    routenname = \"RoImSch: \"+ str(gruppenname)\n",
    "\n",
    "    print(routenname)\n",
    "\n",
    "    def bbox(coord_list):\n",
    "        box = []\n",
    "        for i in (0,1):\n",
    "            res = sorted(coord_list, key=lambda x:x[i])\n",
    "            box.append((res[0][i],res[-1][i]))\n",
    "\n",
    "        return box\n",
    "\n",
    "    bbox_list = bbox(list(geojson.utils.coords(gj['features'])))\n",
    "\n",
    "    url = 'https://print-test.get-map.org/new/'\n",
    "\n",
    "    route = [\n",
    "            ('maptitle', (None, routenname)),\n",
    "            ('mode', (None,'bbox')),\n",
    "            ('layout', (None,'plain')),\n",
    "            ('stylesheet', (None,'CartoOSM')),\n",
    "            ('paper_width_mm', (None,'420')),\n",
    "            ('paper_height_mm', (None,'594')),\n",
    "            ('overlay', (None,'Scale-Bar-Overlay')),\n",
    "            ('overlay', (None,'QRcode-Overlay')),\n",
    "            ('map_language', (None,'de_DE.UTF-8')),\n",
    "            ('lon_upper_left', (None,str(float(bbox_list[0][0])- 0.02))),\n",
    "            ('lat_upper_left', (None,str(float(bbox_list[1][1])+ 0.02))),\n",
    "            ('lon_bottom_right', (None,str(float(bbox_list[0][1])+ 0.02))),\n",
    "            ('lat_bottom_right', (None,str(float(bbox_list[1][0])- 0.02))),\n",
    "            ('uploadfile', ('pois.geojson', str(gj), 'application/octet-stream'))]\n",
    "\n",
    "\n",
    "\n",
    "    cookies = x.cookies\n",
    "\n",
    "    print(cookies)\n",
    "\n",
    "    x = requests.post(url, files=route, cookies=cookies) \n",
    "\n",
    "    karten = os.path.join(os.curdir, \"Routen\", \"Karten.txt\")\n",
    "\n",
    "    with open(karten, 'a+') as f:\n",
    "        f.write(x.url+ \"\\n\")\n",
    "\n",
    "    print(cookies)\n",
    "\n",
    "    time.sleep(20)"
   ]
  },
  {
   "cell_type": "code",
   "execution_count": 55,
   "metadata": {
    "tags": []
   },
   "outputs": [],
   "source": [
    "\n",
    "\n",
    "\n",
    "\n"
   ]
  },
  {
   "cell_type": "code",
   "execution_count": 2,
   "metadata": {},
   "outputs": [
    {
     "ename": "NameError",
     "evalue": "name 'route1' is not defined",
     "output_type": "error",
     "traceback": [
      "\u001b[0;31m---------------------------------------------------------------------------\u001b[0m",
      "\u001b[0;31mNameError\u001b[0m                                 Traceback (most recent call last)",
      "\u001b[0;32m<ipython-input-2-ea2d2168025f>\u001b[0m in \u001b[0;36m<module>\u001b[0;34m\u001b[0m\n\u001b[1;32m      3\u001b[0m \u001b[0;34m\u001b[0m\u001b[0m\n\u001b[1;32m      4\u001b[0m \u001b[0;34m\u001b[0m\u001b[0m\n\u001b[0;32m----> 5\u001b[0;31m \u001b[0mjson\u001b[0m\u001b[0;34m.\u001b[0m\u001b[0mdumps\u001b[0m\u001b[0;34m(\u001b[0m\u001b[0mroute1\u001b[0m\u001b[0;34m)\u001b[0m\u001b[0;34m\u001b[0m\u001b[0;34m\u001b[0m\u001b[0m\n\u001b[0m",
      "\u001b[0;31mNameError\u001b[0m: name 'route1' is not defined"
     ]
    }
   ],
   "source": [
    "import json\n",
    "\n",
    "\n",
    "\n",
    "json.dumps(route1)"
   ]
  },
  {
   "cell_type": "code",
   "execution_count": null,
   "metadata": {},
   "outputs": [],
   "source": []
  }
 ],
 "metadata": {
  "kernelspec": {
   "display_name": "Python 3.8.2 64-bit ('venv': venv)",
   "language": "python",
   "name": "python38264bitvenvvenva87621659821449283ab4e902a7bf1e4"
  },
  "language_info": {
   "codemirror_mode": {
    "name": "ipython",
    "version": 3
   },
   "file_extension": ".py",
   "mimetype": "text/x-python",
   "name": "python",
   "nbconvert_exporter": "python",
   "pygments_lexer": "ipython3",
   "version": "3.8.2"
  }
 },
 "nbformat": 4,
 "nbformat_minor": 2
}
